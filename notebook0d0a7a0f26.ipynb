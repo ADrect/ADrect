{
 "cells": [
  {
   "cell_type": "markdown",
   "id": "a839ed13",
   "metadata": {
    "papermill": {
     "duration": 0.005126,
     "end_time": "2022-09-17T18:49:53.869255",
     "exception": false,
     "start_time": "2022-09-17T18:49:53.864129",
     "status": "completed"
    },
    "tags": []
   },
   "source": [
    "# create an in Numpy and perform basic operations on the array using Numpy. such as reshaping, indexing, slicing, and iterating.\n",
    "\n",
    "# joing operation"
   ]
  },
  {
   "cell_type": "code",
   "execution_count": 1,
   "id": "f2bafc39",
   "metadata": {
    "execution": {
     "iopub.execute_input": "2022-09-17T18:49:53.880571Z",
     "iopub.status.busy": "2022-09-17T18:49:53.879601Z",
     "iopub.status.idle": "2022-09-17T18:49:53.895842Z",
     "shell.execute_reply": "2022-09-17T18:49:53.894650Z"
    },
    "papermill": {
     "duration": 0.025595,
     "end_time": "2022-09-17T18:49:53.899046",
     "exception": false,
     "start_time": "2022-09-17T18:49:53.873451",
     "status": "completed"
    },
    "tags": []
   },
   "outputs": [
    {
     "name": "stdout",
     "output_type": "stream",
     "text": [
      "[1 2 3 4 5]\n"
     ]
    }
   ],
   "source": [
    "import numpy as np \n",
    "arr = np.array ([1, 2, 3, 4, 5])\n",
    "print (arr)\n"
   ]
  },
  {
   "cell_type": "markdown",
   "id": "0e31251a",
   "metadata": {
    "papermill": {
     "duration": 0.003731,
     "end_time": "2022-09-17T18:49:53.907305",
     "exception": false,
     "start_time": "2022-09-17T18:49:53.903574",
     "status": "completed"
    },
    "tags": []
   },
   "source": [
    "# joing operation"
   ]
  },
  {
   "cell_type": "code",
   "execution_count": 2,
   "id": "ae2f2ee3",
   "metadata": {
    "execution": {
     "iopub.execute_input": "2022-09-17T18:49:53.917223Z",
     "iopub.status.busy": "2022-09-17T18:49:53.916553Z",
     "iopub.status.idle": "2022-09-17T18:49:53.923027Z",
     "shell.execute_reply": "2022-09-17T18:49:53.921578Z"
    },
    "papermill": {
     "duration": 0.015673,
     "end_time": "2022-09-17T18:49:53.926873",
     "exception": false,
     "start_time": "2022-09-17T18:49:53.911200",
     "status": "completed"
    },
    "tags": []
   },
   "outputs": [
    {
     "name": "stdout",
     "output_type": "stream",
     "text": [
      "7\n"
     ]
    }
   ],
   "source": [
    "  arr = np.array ([1, 2, 3, 4])\n",
    "  print (arr[2] + arr[3])"
   ]
  },
  {
   "cell_type": "markdown",
   "id": "cad93d63",
   "metadata": {
    "papermill": {
     "duration": 0.004266,
     "end_time": "2022-09-17T18:49:53.935713",
     "exception": false,
     "start_time": "2022-09-17T18:49:53.931447",
     "status": "completed"
    },
    "tags": []
   },
   "source": [
    "# array indexing"
   ]
  },
  {
   "cell_type": "code",
   "execution_count": 3,
   "id": "fda20600",
   "metadata": {
    "execution": {
     "iopub.execute_input": "2022-09-17T18:49:53.945217Z",
     "iopub.status.busy": "2022-09-17T18:49:53.944803Z",
     "iopub.status.idle": "2022-09-17T18:49:53.951121Z",
     "shell.execute_reply": "2022-09-17T18:49:53.950315Z"
    },
    "papermill": {
     "duration": 0.014521,
     "end_time": "2022-09-17T18:49:53.954165",
     "exception": false,
     "start_time": "2022-09-17T18:49:53.939644",
     "status": "completed"
    },
    "tags": []
   },
   "outputs": [
    {
     "name": "stdout",
     "output_type": "stream",
     "text": [
      "2nd element on 1st row:  2\n"
     ]
    }
   ],
   "source": [
    "arr = np.array ([[1, 2, 3, 4, 5],[6, 7, 8, 9, 10]])\n",
    "print ('2nd element on 1st row: ', arr[0, 1])\n",
    "arr = np.array ([1, 2, 3, 4], ndmin = 5)"
   ]
  },
  {
   "cell_type": "markdown",
   "id": "93232f40",
   "metadata": {
    "papermill": {
     "duration": 0.004027,
     "end_time": "2022-09-17T18:49:53.964237",
     "exception": false,
     "start_time": "2022-09-17T18:49:53.960210",
     "status": "completed"
    },
    "tags": []
   },
   "source": [
    "# Type of Array"
   ]
  },
  {
   "cell_type": "code",
   "execution_count": 4,
   "id": "c7123528",
   "metadata": {
    "execution": {
     "iopub.execute_input": "2022-09-17T18:49:53.975160Z",
     "iopub.status.busy": "2022-09-17T18:49:53.974744Z",
     "iopub.status.idle": "2022-09-17T18:49:53.979942Z",
     "shell.execute_reply": "2022-09-17T18:49:53.978830Z"
    },
    "papermill": {
     "duration": 0.014304,
     "end_time": "2022-09-17T18:49:53.982847",
     "exception": false,
     "start_time": "2022-09-17T18:49:53.968543",
     "status": "completed"
    },
    "tags": []
   },
   "outputs": [
    {
     "name": "stdout",
     "output_type": "stream",
     "text": [
      "<class 'numpy.ndarray'>\n"
     ]
    }
   ],
   "source": [
    " print (type (arr))"
   ]
  },
  {
   "cell_type": "markdown",
   "id": "2697a113",
   "metadata": {
    "papermill": {
     "duration": 0.003788,
     "end_time": "2022-09-17T18:49:53.990831",
     "exception": false,
     "start_time": "2022-09-17T18:49:53.987043",
     "status": "completed"
    },
    "tags": []
   },
   "source": [
    "# shape of array"
   ]
  },
  {
   "cell_type": "code",
   "execution_count": 5,
   "id": "3335a582",
   "metadata": {
    "execution": {
     "iopub.execute_input": "2022-09-17T18:49:54.001496Z",
     "iopub.status.busy": "2022-09-17T18:49:54.000414Z",
     "iopub.status.idle": "2022-09-17T18:49:54.006539Z",
     "shell.execute_reply": "2022-09-17T18:49:54.005186Z"
    },
    "papermill": {
     "duration": 0.013853,
     "end_time": "2022-09-17T18:49:54.008820",
     "exception": false,
     "start_time": "2022-09-17T18:49:53.994967",
     "status": "completed"
    },
    "tags": []
   },
   "outputs": [
    {
     "name": "stdout",
     "output_type": "stream",
     "text": [
      "[[[[[1 2 3 4]]]]]\n",
      "shape of array : (1, 1, 1, 1, 4)\n"
     ]
    }
   ],
   "source": [
    "print (arr)\n",
    "print ('shape of array :', arr.shape)"
   ]
  },
  {
   "cell_type": "markdown",
   "id": "98d255ea",
   "metadata": {
    "papermill": {
     "duration": 0.004149,
     "end_time": "2022-09-17T18:49:54.017144",
     "exception": false,
     "start_time": "2022-09-17T18:49:54.012995",
     "status": "completed"
    },
    "tags": []
   },
   "source": [
    "# reshape of array"
   ]
  },
  {
   "cell_type": "code",
   "execution_count": 6,
   "id": "e0655b9a",
   "metadata": {
    "execution": {
     "iopub.execute_input": "2022-09-17T18:49:54.027518Z",
     "iopub.status.busy": "2022-09-17T18:49:54.026588Z",
     "iopub.status.idle": "2022-09-17T18:49:54.034157Z",
     "shell.execute_reply": "2022-09-17T18:49:54.032519Z"
    },
    "papermill": {
     "duration": 0.015088,
     "end_time": "2022-09-17T18:49:54.036408",
     "exception": false,
     "start_time": "2022-09-17T18:49:54.021320",
     "status": "completed"
    },
    "tags": []
   },
   "outputs": [
    {
     "name": "stdout",
     "output_type": "stream",
     "text": [
      "[[ 1  2  3]\n",
      " [ 4  5  6]\n",
      " [ 7  8  9]\n",
      " [10 11 12]]\n"
     ]
    }
   ],
   "source": [
    "  arr = np.array ([1, 2, 3, 4, 5, 6, 7, 8, 9, 10, 11, 12])\n",
    "  newarr = arr.reshape (4, 3)\n",
    "  print (newarr)"
   ]
  },
  {
   "cell_type": "markdown",
   "id": "1df8718c",
   "metadata": {
    "papermill": {
     "duration": 0.003855,
     "end_time": "2022-09-17T18:49:54.044568",
     "exception": false,
     "start_time": "2022-09-17T18:49:54.040713",
     "status": "completed"
    },
    "tags": []
   },
   "source": [
    "# slicing of array"
   ]
  },
  {
   "cell_type": "code",
   "execution_count": 7,
   "id": "2bbfd6cf",
   "metadata": {
    "execution": {
     "iopub.execute_input": "2022-09-17T18:49:54.054935Z",
     "iopub.status.busy": "2022-09-17T18:49:54.054139Z",
     "iopub.status.idle": "2022-09-17T18:49:54.059746Z",
     "shell.execute_reply": "2022-09-17T18:49:54.058716Z"
    },
    "papermill": {
     "duration": 0.014211,
     "end_time": "2022-09-17T18:49:54.062907",
     "exception": false,
     "start_time": "2022-09-17T18:49:54.048696",
     "status": "completed"
    },
    "tags": []
   },
   "outputs": [
    {
     "name": "stdout",
     "output_type": "stream",
     "text": [
      "[1 2 3 4]\n"
     ]
    }
   ],
   "source": [
    "arr = np.array ([1, 2, 3, 4, 5, 6, 7])\n",
    "print (arr[:4])\n"
   ]
  },
  {
   "cell_type": "markdown",
   "id": "963f9a24",
   "metadata": {
    "papermill": {
     "duration": 0.004187,
     "end_time": "2022-09-17T18:49:54.072003",
     "exception": false,
     "start_time": "2022-09-17T18:49:54.067816",
     "status": "completed"
    },
    "tags": []
   },
   "source": [
    "# iterating of array"
   ]
  },
  {
   "cell_type": "code",
   "execution_count": 8,
   "id": "7e4d5700",
   "metadata": {
    "execution": {
     "iopub.execute_input": "2022-09-17T18:49:54.082465Z",
     "iopub.status.busy": "2022-09-17T18:49:54.081799Z",
     "iopub.status.idle": "2022-09-17T18:49:54.088210Z",
     "shell.execute_reply": "2022-09-17T18:49:54.086921Z"
    },
    "papermill": {
     "duration": 0.014876,
     "end_time": "2022-09-17T18:49:54.091090",
     "exception": false,
     "start_time": "2022-09-17T18:49:54.076214",
     "status": "completed"
    },
    "tags": []
   },
   "outputs": [
    {
     "name": "stdout",
     "output_type": "stream",
     "text": [
      "1\n",
      "2\n",
      "3\n",
      "4\n",
      "5\n",
      "6\n"
     ]
    }
   ],
   "source": [
    " import numpy as np\n",
    "\n",
    "arr = np.array([[1, 2, 3], [4, 5, 6]])\n",
    "\n",
    "for x in arr:\n",
    "  for y in x:\n",
    "    print(y)"
   ]
  }
 ],
 "metadata": {
  "kernelspec": {
   "display_name": "Python 3",
   "language": "python",
   "name": "python3"
  },
  "language_info": {
   "codemirror_mode": {
    "name": "ipython",
    "version": 3
   },
   "file_extension": ".py",
   "mimetype": "text/x-python",
   "name": "python",
   "nbconvert_exporter": "python",
   "pygments_lexer": "ipython3",
   "version": "3.7.12"
  },
  "papermill": {
   "default_parameters": {},
   "duration": 9.677227,
   "end_time": "2022-09-17T18:49:54.717006",
   "environment_variables": {},
   "exception": null,
   "input_path": "__notebook__.ipynb",
   "output_path": "__notebook__.ipynb",
   "parameters": {},
   "start_time": "2022-09-17T18:49:45.039779",
   "version": "2.3.4"
  }
 },
 "nbformat": 4,
 "nbformat_minor": 5
}
